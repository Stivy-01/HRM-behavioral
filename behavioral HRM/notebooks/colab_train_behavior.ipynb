{
  "cells": [
    {
      "cell_type": "markdown",
      "metadata": {},
      "source": [
        "# HRM Behavior Training (Colab)\n",
        "\n",
        "This notebook trains HRM on the behavior dataset and evaluates on the test split.\n",
        "\n"
      ]
    },
    {
      "cell_type": "code",
      "execution_count": null,
      "metadata": {},
      "outputs": [],
      "source": [
        "#@title Configure\n",
        "REPO_URL = \"https://github.com/<your-fork>/HRM-behavioral.git\"  #@param {type:\"string\"}\n",
        "DATA_ROOT = \"/content/behavior-v1-dayselect\"                    #@param {type:\"string\"}\n",
        "BATCH_SIZE = 256                                                  #@param {type:\"number\"}\n",
        "EPOCHS = 10000                                                    #@param {type:\"number\"}\n",
        "EVAL_INTERVAL = 1000                                              #@param {type:\"number\"}\n",
        "\n"
      ]
    },
    {
      "cell_type": "code",
      "execution_count": null,
      "metadata": {},
      "outputs": [],
      "source": [
        "#@title Clone and install\n",
        "!git clone $REPO_URL\n",
        "%cd HRM-behavioral\n",
        "%pip install -q -r requirements.txt\n",
        "%pip install -q torch torchvision torchaudio --index-url https://download.pytorch.org/whl/cu121\n",
        "print('Repo ready.')\n"
      ]
    },
    {
      "cell_type": "code",
      "execution_count": null,
      "metadata": {},
      "outputs": [],
      "source": [
        "#@title Train\n",
        "import yaml\n",
        "cfg_path = \"config/cfg_behavior_pretrain.yaml\"\n",
        "with open(cfg_path, 'r') as f:\n",
        "  cfg = yaml.safe_load(f)\n",
        "cfg['data_path'] = DATA_ROOT\n",
        "cfg['global_batch_size'] = int(BATCH_SIZE)\n",
        "cfg['epochs'] = int(EPOCHS)\n",
        "cfg['eval_interval'] = int(EVAL_INTERVAL)\n",
        "with open(cfg_path, 'w') as f:\n",
        "  yaml.safe_dump(cfg, f)\n",
        "!python pretrain.py --config-name cfg_behavior_pretrain\n"
      ]
    },
    {
      "cell_type": "code",
      "execution_count": null,
      "metadata": {},
      "outputs": [],
      "source": [
        "#@title Evaluate\n",
        "!python scripts/eval_metrics.py --data_path \"$DATA_ROOT\" --split test --arch config/arch/hrm_behavior.yaml --batch_size 256 --device cuda\n"
      ]
    }
  ],
  "metadata": {
    "language_info": {
      "name": "python"
    }
  },
  "nbformat": 4,
  "nbformat_minor": 2
}
